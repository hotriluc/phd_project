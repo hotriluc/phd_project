{
 "cells": [
  {
   "cell_type": "code",
   "execution_count": 112,
   "metadata": {},
   "outputs": [],
   "source": [
    "import numpy as np\n",
    "import matplotlib.pyplot as plt\n",
    "import math\n",
    "import scipy.interpolate\n",
    "%matplotlib inline\n",
    "import numpy as np\n",
    "import matplotlib.pyplot as plt\n",
    "from matplotlib.patches import Circle\n",
    "import mpl_toolkits.mplot3d.art3d as art3d\n",
    "import gray_codes as gray\n",
    "\n"
   ]
  },
  {
   "cell_type": "code",
   "execution_count": 113,
   "metadata": {},
   "outputs": [],
   "source": [
    "def n_likes(n, array):\n",
    "    return [n]*len(array)\n",
    "\n",
    "def generate_gray(n):\n",
    "    if (n<=0):\n",
    "        return ['0']\n",
    "    if (n==1):\n",
    "        return ['0','1']\n",
    "    # call recursion\n",
    "    rec_ans = generate_gray(n-1)\n",
    "\n",
    "    main_ans = []\n",
    "\n",
    "    # Add 0 to first half\n",
    "    for i in range(len(rec_ans)):\n",
    "        sym = rec_ans[i]\n",
    "        main_ans.append(\"0\" + sym)\n",
    "    # Add 1 to second half(mirrored)\n",
    "    for i in range(len(rec_ans)-1, -1, -1):\n",
    "        sym = rec_ans[i]\n",
    "        main_ans.append(\"1\" + sym)\n",
    "    \n",
    "    return main_ans\n",
    "\n",
    "# This method convery binary to gray code\n",
    "# Pass n e.g 100 or '100'\n",
    "def convert_bin_to_gray(n):\n",
    "    n = int(str(n), 2)\n",
    "    n ^= (n >> 1)\n",
    "    return bin(n)\n",
    "\n",
    " # This method convert gray code to binary \n",
    "def convert_gray_to_bin(n):\n",
    "    n = int(str(n),2)\n",
    "    mask = n\n",
    "    while n!=0:\n",
    "        mask = mask >> 1\n",
    "        n ^= mask\n",
    "    return bin(n)"
   ]
  },
  {
   "cell_type": "markdown",
   "metadata": {},
   "source": [
    "Задаем число поднесущих"
   ]
  },
  {
   "cell_type": "code",
   "execution_count": 114,
   "metadata": {},
   "outputs": [],
   "source": [
    "N = 4  # OFDM Sub Carriers\n",
    "T = 1 # Period\n",
    "k = 2 # nubmer of bits\n",
    "Fn = 1000\n"
   ]
  },
  {
   "cell_type": "code",
   "execution_count": 115,
   "metadata": {},
   "outputs": [
    {
     "name": "stdout",
     "output_type": "stream",
     "text": [
      "Data Carriers:  [0 1 2 3]\n"
     ]
    },
    {
     "data": {
      "image/png": "[encoded data removed]",
      "text/plain": [
       "<Figure size 1440x360 with 1 Axes>"
      ]
     },
     "metadata": {
      "needs_background": "light"
     },
     "output_type": "display_data"
    }
   ],
   "source": [
    "all_carriers = np.arange(N)  # indices of all subcarriers ([0, 1, ... K-1])\n",
    "\n",
    "data_carriers = all_carriers\n",
    "\n",
    "print (\"Data Carriers:  %s\" % data_carriers)\n",
    "plt.figure(figsize=(20,5))\n",
    "\n",
    "plt.stem(data_carriers, n_likes(4, data_carriers), use_line_collection=True,  linefmt=\"r--\",  markerfmt='ro', label='data',)\n",
    "plt.legend(fontsize=10, ncol=2, prop={'size': 15})\n",
    "plt.xlim((-1,N)); plt.ylim((-0.1, 10))\n",
    "plt.xlabel('Carrier index')\n",
    "plt.yticks([])\n",
    "plt.grid(True);"
   ]
  },
  {
   "cell_type": "code",
   "execution_count": 116,
   "metadata": {},
   "outputs": [
    {
     "name": "stdout",
     "output_type": "stream",
     "text": [
      "8\n",
      "Bits count:  8\n",
      "Random sequence:  [0 0 1 0 1 1 1 1]\n",
      "Mean of bits (should be around 0.5):  0.625\n"
     ]
    }
   ],
   "source": [
    "mu = 2 # bits per symbol\n",
    "payloadBits_per_OFDM = len(data_carriers)*mu  # number of payload bits per OFDM symbol\n",
    "print(payloadBits_per_OFDM)\n",
    "\n",
    "bits = np.random.binomial(n=1, p=0.5, size=(payloadBits_per_OFDM))\n",
    "\n",
    "print (\"Bits count: \", len(bits))\n",
    "print (\"Random sequence: \", bits)\n",
    "print (\"Mean of bits (should be around 0.5): \", np.mean(bits))"
   ]
  },
  {
   "cell_type": "code",
   "execution_count": 117,
   "metadata": {},
   "outputs": [
    {
     "name": "stdout",
     "output_type": "stream",
     "text": [
      "[[0 0]\n",
      " [1 0]\n",
      " [1 1]\n",
      " [1 1]]\n"
     ]
    }
   ],
   "source": [
    "def SP(bits):\n",
    "    return bits.reshape((len(data_carriers), mu))\n",
    "bits_SP = SP(bits)\n",
    "print (bits_SP)"
   ]
  },
  {
   "cell_type": "code",
   "execution_count": 118,
   "metadata": {},
   "outputs": [],
   "source": [
    "# pass list of sp bits (look above)\n",
    "def convert_bit_arr_to_gray(bits):\n",
    "   bits_str = ''.join(map(str, bits))\n",
    "   gray_code = convert_bin_to_gray(bits_str)\n",
    "   return gray_code\n",
    "\n",
    "\n",
    "# convert binary to decimal\n",
    "def convert_binary_to_decimal(binary):\n",
    "   return int(binary, 2)\n",
    "\n",
    "# \n",
    "def from_seq_to_sig(t, bits):\n",
    "   sum = 0.0\n",
    "   for i in range(0, N ):\n",
    "      Mb_i = convert_binary_to_decimal(convert_bit_arr_to_gray(bits[i])) \n",
    "      sum += np.sin(2*np.pi*(Fn + (i/T))*t + Mb_i*np.pi/2) \n",
    "   return sum\n",
    "   "
   ]
  },
  {
   "cell_type": "code",
   "execution_count": 119,
   "metadata": {},
   "outputs": [
    {
     "name": "stdout",
     "output_type": "stream",
     "text": [
      "[-0.9999999999999998, -0.5645248895050607, 1.136593340523895, 3.0689581309889626, 3.4413690982646528, 1.5876366880229424, -1.1295507305653567, -2.515972085250032, -1.664990833594312, 0.23686741849932663, 1.235760397263963, 0.582174950444276, -0.7443442485999096, -1.3437867438224922, -0.9140640042365054, -0.3058797663510413, -0.2703672199562843, -0.5364382117114228, -0.2945317866549467, 0.638326472107262, 1.5039458718585048, 1.5385908771267869, 0.9425140850031384, 0.6010463063211732, 0.8617008134292441, 0.9402369223858202, -0.15600443851191548, -2.1894936888425116, -3.5385908771144767, -2.7509254755149524, -0.19328460407904346, 2.0964695224801524, 2.3383759475191495, 0.7154090878569063, -0.941099837341133, -1.085935995681159, 0.09680714012356106, 1.1893861165655701, 1.2197627853603186, 0.566177338507261, 0.208174449345513, 0.41801122998069756, 0.5159720852185312, -0.1174288732266906, -1.1425948201942235, -1.6394313624353383, -1.267020395083308, -0.6915514725032095, -0.6824547141639896, -1.0000000000338263]\n"
     ]
    },
    {
     "data": {
      "image/png": "[encoded data removed]",
      "text/plain": [
       "<Figure size 432x288 with 1 Axes>"
      ]
     },
     "metadata": {
      "needs_background": "light"
     },
     "output_type": "display_data"
    }
   ],
   "source": [
    "t = np.linspace(0, 100)\n",
    "modulated_sig = list()\n",
    "modulated_sig2 = list()\n",
    "\n",
    "for time in t:\n",
    "   modulated_sig.append(from_seq_to_sig(time, bits_SP))\n",
    "\n",
    "print(modulated_sig)\n",
    "\n",
    "plt.grid(True)\n",
    "plt.plot(t, modulated_sig)\n",
    "plt.show()"
   ]
  },
  {
   "cell_type": "code",
   "execution_count": null,
   "metadata": {},
   "outputs": [],
   "source": []
  }
 ],
 "metadata": {
  "interpreter": {
   "hash": "1a72f03dd6dc87116407e910c03642a02a19ef07e9bf64e70542d83117f949c6"
  },
  "kernelspec": {
   "display_name": "Python 3.8.8 64-bit ('base': conda)",
   "name": "python3"
  },
  "language_info": {
   "codemirror_mode": {
    "name": "ipython",
    "version": 3
   },
   "file_extension": ".py",
   "mimetype": "text/x-python",
   "name": "python",
   "nbconvert_exporter": "python",
   "pygments_lexer": "ipython3",
   "version": "3.8.8"
  },
  "orig_nbformat": 4
 },
 "nbformat": 4,
 "nbformat_minor": 2
}
