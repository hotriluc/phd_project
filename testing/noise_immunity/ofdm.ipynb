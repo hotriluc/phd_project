{
 "cells": [
  {
   "cell_type": "code",
   "execution_count": 53,
   "metadata": {},
   "outputs": [],
   "source": [
    "import numpy as np\n",
    "import matplotlib.pyplot as plt\n",
    "import math\n",
    "import scipy.interpolate\n",
    "%matplotlib inline\n",
    "import numpy as np\n",
    "import matplotlib.pyplot as plt\n",
    "from matplotlib.patches import Circle\n",
    "import mpl_toolkits.mplot3d.art3d as art3d\n",
    "\n",
    "def n_likes(n, array):\n",
    "    return [n]*len(array)"
   ]
  },
  {
   "cell_type": "markdown",
   "metadata": {},
   "source": [
    "Задаем число поднесущих"
   ]
  },
  {
   "cell_type": "code",
   "execution_count": 54,
   "metadata": {},
   "outputs": [],
   "source": [
    "K = 10 # OFDM Sub Carriers"
   ]
  },
  {
   "cell_type": "code",
   "execution_count": 55,
   "metadata": {},
   "outputs": [],
   "source": [
    "P = 1 # Number of Pilot Sub Carriers \n",
    "pilot_value = 3+3j # The known value each pilot transmits"
   ]
  },
  {
   "cell_type": "code",
   "execution_count": 56,
   "metadata": {},
   "outputs": [
    {
     "name": "stdout",
     "output_type": "stream",
     "text": [
      "All Carriers:   [0 1 2 3 4 5 6 7 8 9]\n",
      "Pilot Carriers: [0 9]\n",
      "Data Carriers:  [1 2 3 4 5 6 7 8]\n"
     ]
    },
    {
     "data": {
      "image/png": "[encoded data removed]",
      "text/plain": [
       "<Figure size 576x360 with 1 Axes>"
      ]
     },
     "metadata": {
      "needs_background": "light"
     },
     "output_type": "display_data"
    }
   ],
   "source": [
    "all_carriers = np.arange(K)  # indices of all subcarriers ([0, 1, ... K-1])\n",
    "\n",
    "pilot_carriers = all_carriers[::K//P] # Pilots is every (K/P)th carrier.\n",
    "\n",
    "# For convenience of channel estimation, let's make the last carriers also be a pilot\n",
    "pilot_carriers = np.hstack([pilot_carriers, np.array([all_carriers[-1]])])\n",
    "P = P+1\n",
    "\n",
    "# data carriers are all remaining carriers\n",
    "data_carriers = np.delete(all_carriers, pilot_carriers)\n",
    "\n",
    "print (\"All Carriers:   %s\" % all_carriers)\n",
    "print (\"Pilot Carriers: %s\" % pilot_carriers)\n",
    "print (\"Data Carriers:  %s\" % data_carriers)\n",
    "plt.figure(figsize=(8,5))\n",
    "\n",
    "plt.stem(pilot_carriers, n_likes(5, pilot_carriers), use_line_collection=True, linefmt=\"b--\", markerfmt='bo', label=\"pilot\")\n",
    "plt.stem(data_carriers, n_likes(4, data_carriers), use_line_collection=True,  linefmt=\"r--\",  markerfmt='ro', label='data',)\n",
    "plt.legend(fontsize=10, ncol=2, prop={'size': 15})\n",
    "plt.xlim((-1,K)); plt.ylim((-0.1, 10))\n",
    "plt.xlabel('Carrier index')\n",
    "plt.yticks([])\n",
    "plt.grid(True);\n",
    "\n",
    "\n"
   ]
  }
 ],
 "metadata": {
  "interpreter": {
   "hash": "1a72f03dd6dc87116407e910c03642a02a19ef07e9bf64e70542d83117f949c6"
  },
  "kernelspec": {
   "display_name": "Python 3.8.8 64-bit ('base': conda)",
   "name": "python3"
  },
  "language_info": {
   "codemirror_mode": {
    "name": "ipython",
    "version": 3
   },
   "file_extension": ".py",
   "mimetype": "text/x-python",
   "name": "python",
   "nbconvert_exporter": "python",
   "pygments_lexer": "ipython3",
   "version": "3.8.8"
  },
  "orig_nbformat": 4
 },
 "nbformat": 4,
 "nbformat_minor": 2
}
