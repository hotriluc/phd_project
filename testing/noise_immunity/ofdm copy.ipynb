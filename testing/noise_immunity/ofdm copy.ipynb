{
 "cells": [
  {
   "cell_type": "markdown",
   "metadata": {},
   "source": [
    "PLAN TO DO:\n",
    "1) implement QPSK using GRAY"
   ]
  },
  {
   "cell_type": "code",
   "execution_count": 352,
   "metadata": {},
   "outputs": [],
   "source": [
    "import numpy as np\n",
    "import matplotlib.pyplot as plt\n",
    "import math\n",
    "import scipy.interpolate\n",
    "%matplotlib inline\n",
    "import numpy as np\n",
    "import matplotlib.pyplot as plt\n",
    "from matplotlib.patches import Circle\n",
    "import mpl_toolkits.mplot3d.art3d as art3d\n",
    "import gray_codes as gray\n",
    "import sympy as sy\n"
   ]
  },
  {
   "cell_type": "markdown",
   "metadata": {},
   "source": [
    "Задаем число поднесущих"
   ]
  },
  {
   "cell_type": "code",
   "execution_count": 353,
   "metadata": {},
   "outputs": [],
   "source": [
    "N = 4  # OFDM Sub Carriers\n",
    "T = 1 # Period\n",
    "k = 2 # nubmer of bits\n",
    "Fn = 1000\n"
   ]
  },
  {
   "cell_type": "markdown",
   "metadata": {},
   "source": [
    "generate random sequence"
   ]
  },
  {
   "cell_type": "code",
   "execution_count": 354,
   "metadata": {},
   "outputs": [
    {
     "name": "stdout",
     "output_type": "stream",
     "text": [
      "[1 0 1 1 1 0 1 0]\n"
     ]
    }
   ],
   "source": [
    "bits = np.random.binomial(n=1, p=0.5, size=(N*k))\n",
    "print(bits)"
   ]
  },
  {
   "cell_type": "markdown",
   "metadata": {},
   "source": [
    "slice sequence by k "
   ]
  },
  {
   "cell_type": "code",
   "execution_count": 355,
   "metadata": {},
   "outputs": [
    {
     "name": "stdout",
     "output_type": "stream",
     "text": [
      "['10', '11', '10', '10']\n",
      "['11', '10', '11', '11']\n"
     ]
    }
   ],
   "source": [
    "bits_slices = list()\n",
    "for i in range(0,N):\n",
    "    a = bits[k*i:k*i+k]\n",
    "    bits_slices.append(''.join(map(str,a)))\n",
    "print(bits_slices)\n",
    "\n",
    "gray_codes_slices = list()\n",
    "for item in bits_slices:\n",
    "    gray_codes_slices.append(gray.convert_bin_to_gray(item))\n",
    "\n",
    "print(gray_codes_slices)"
   ]
  },
  {
   "cell_type": "markdown",
   "metadata": {},
   "source": [
    "signal function"
   ]
  },
  {
   "cell_type": "code",
   "execution_count": 356,
   "metadata": {},
   "outputs": [],
   "source": [
    "def sig(t, bits):\n",
    "   sum = 0.0\n",
    "   for i in range(0, N ):\n",
    "      Mb_i = int(bits[i],2)\n",
    "      # a = int(bits[i][0])\n",
    "      # b =int(bits[i][1])\n",
    "      # sum += a*np.sin(2*np.pi*(Fn + (i/T))*t ) + b*np.cos(2*np.pi*(Fn + (i/T))*t ) \n",
    "      sum += np.sin(2*np.pi*(Fn + (i/T))*t + Mb_i*np.pi/2) \n",
    "   return sum"
   ]
  },
  {
   "cell_type": "markdown",
   "metadata": {},
   "source": []
  },
  {
   "cell_type": "code",
   "execution_count": 357,
   "metadata": {},
   "outputs": [
    {
     "name": "stdout",
     "output_type": "stream",
     "text": [
      "[-3.0, 2.334819269775994, -1.351282239868211, 0.2756769577986875, 0.6443518657145149, -1.2090612629566904, 1.3235211974271441, -1.024458669761138, 0.4681758141104243, 0.1174750146364048, -0.5029361691334573, 0.5275639792754502, -0.14949825570535147, -0.5405573966401156, 1.3460107358151114, -2.023504926346976, 2.356552689086891, -2.2213337930898116, 1.6247816151907497, -0.7036426071713185, -0.31485288464825656, 1.1784479339463396, -1.6814848127983109, 1.7212881444467887, -1.3230323679388007, 0.6268234564246401, 0.1576251795115231, -0.8137173345628669, 1.1784479339459768, -1.1826203628818825, 0.8600203577630232, -0.32507420917131313, -0.2714779687275406, 0.7928897241519979, -1.1557374481108447, 1.3460107358142044, -1.4083248748742432, 1.4141647092293985, -1.4222918450873991, 1.4469196552295474, -1.4461879502988464, 1.3359432923453094, -1.0244586697613272, 0.4557537191908242, 0.3546017019829007, -1.305503958652475, 2.2255327821660176, -2.9149452048069806, 3.202586748012071, -3.000000000000348]\n"
     ]
    },
    {
     "data": {
      "image/png": "[encoded data removed]",
      "text/plain": [
       "<Figure size 432x288 with 1 Axes>"
      ]
     },
     "metadata": {
      "needs_background": "light"
     },
     "output_type": "display_data"
    }
   ],
   "source": [
    "time = np.linspace(0,1)\n",
    "signal = list()\n",
    "for t in time:\n",
    "    signal.append(sig(t,gray_codes_slices))\n",
    "print(signal)\n",
    "plt.grid(True)\n",
    "plt.plot(time, signal)\n",
    "plt.show()\n",
    "\n",
    "# f = np.fft.ifft(signal)\n",
    "# print(f)\n",
    "# plt.plot(time, f)\n",
    "# plt.show()\n",
    "# s = np.fft.fft(f)\n",
    "# plt.plot(time, s)"
   ]
  },
  {
   "cell_type": "code",
   "execution_count": 358,
   "metadata": {},
   "outputs": [
    {
     "name": "stdout",
     "output_type": "stream",
     "text": [
      "[0.    0.125 0.25  0.375 0.5   0.625 0.75  0.875]\n",
      "[-1.32888378e+00 -3.45094180e-02 -1.00000000e+00 -3.04328121e-13\n",
      "  3.48135066e-13 -1.00000000e+00  7.85380964e-14 -1.00000000e+00]\n",
      "['11', '10', '11', '11']\n",
      "0.9834715107242972\n",
      "0.9999999999998064\n",
      "-2.2162966615665948e-13\n",
      "-4.999890505797558e-14\n"
     ]
    }
   ],
   "source": [
    "# Q = 1.2\n",
    "# delta = 0.0001\n",
    "# a = np.ones((N,N))\n",
    "# for i in range(0,  math.floor(Q*(N))):\n",
    "#     for j in range(0, N):\n",
    "#         a[i][j] = np.sin(2*np.pi*(Fn + j/T)*(delta + i/(N*Q))   )\n",
    "# print(\"A=\",a)\n",
    "\n",
    "# b = list()\n",
    "# for i in range(0, math.floor(Q*(N))):\n",
    "#         b.append(sig(delta + i/(N*Q), gray_codes_slices))\n",
    "# print(\"B=\",b)\n",
    "\n",
    "# res = np.linalg.solve(a,b)\n",
    "# print(\"X=\",res)\n",
    "\n",
    "\n",
    "newa = np.ones((k*N, k*N))\n",
    "\n",
    "newb = []\n",
    "start=0\n",
    "num=N*k\n",
    "step = 1/num\n",
    "time=np.arange(0,num)*step+start\n",
    "print(time)\n",
    "\n",
    "\n",
    "for i in range(0,N*k):\n",
    "        for j in range(0,N):\n",
    "                newa[i][2*j] =  np.sin(2*np.pi*(Fn + (j/T))*(time[i]+0.0001) ) \n",
    "                newa[i][2*j+1] = np.cos(2*np.pi*(Fn + (j/T))*(time[i]+0.0001) ) \n",
    "\n",
    "for i in range(0,N*k):\n",
    "        newb.append(sig((time[i]+0.0001),gray_codes_slices))\n",
    "\n",
    "res = np.linalg.solve(newa,newb)\n",
    "\n",
    "print(res)\n",
    "\n",
    "print(gray_codes_slices)\n",
    "\n",
    "print(np.arctan(res[0]/res[1])/(np.pi/2))\n",
    "print(np.arctan(res[2]/res[3])*2/np.pi)\n",
    "print(np.arctan(res[4]/res[5])*2/np.pi)\n",
    "print(np.arctan(res[6]/res[7])*2/np.pi)\n",
    "\n",
    "\n"
   ]
  }
 ],
 "metadata": {
  "interpreter": {
   "hash": "1a72f03dd6dc87116407e910c03642a02a19ef07e9bf64e70542d83117f949c6"
  },
  "kernelspec": {
   "display_name": "Python 3.8.8 64-bit ('base': conda)",
   "name": "python3"
  },
  "language_info": {
   "codemirror_mode": {
    "name": "ipython",
    "version": 3
   },
   "file_extension": ".py",
   "mimetype": "text/x-python",
   "name": "python",
   "nbconvert_exporter": "python",
   "pygments_lexer": "ipython3",
   "version": "3.8.8"
  },
  "orig_nbformat": 4
 },
 "nbformat": 4,
 "nbformat_minor": 2
}
